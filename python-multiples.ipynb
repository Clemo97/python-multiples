{
 "cells": [
  {
   "cell_type": "markdown",
   "id": "252dbd50",
   "metadata": {},
   "source": [
    "<b>Description:</b>\n",
    "    \n",
    "If we list all the natural numbers below 10 that are multiples of 3 or 5, we get 3, 5, 6 and 9. The sum of these multiples is 23.\n",
    "\n",
    "Finish the solution so that it returns the sum of all the multiples of 3 or 5 below the number passed in. Additionally, if the number is negative, return 0 (for languages that do have them).\n",
    "\n",
    "Note: If the number is a multiple of both 3 and 5, only count it once."
   ]
  },
  {
   "cell_type": "markdown",
   "id": "f5bc0f90",
   "metadata": {},
   "source": [
    "<B>Solution: </B>"
   ]
  },
  {
   "cell_type": "code",
   "execution_count": 1,
   "id": "871c8d91",
   "metadata": {},
   "outputs": [],
   "source": [
    "def solution(number):\n",
    "    sum = 0\n",
    "    for i in range(number):\n",
    "        if (i % 3) == 0 or (i % 5) == 0:\n",
    "            sum += i\n",
    "    return sum"
   ]
  },
  {
   "cell_type": "code",
   "execution_count": null,
   "id": "d509e7db",
   "metadata": {},
   "outputs": [],
   "source": [
    "#function call\n",
    "solution(number)"
   ]
  }
 ],
 "metadata": {
  "kernelspec": {
   "display_name": "Python 3 (ipykernel)",
   "language": "python",
   "name": "python3"
  },
  "language_info": {
   "codemirror_mode": {
    "name": "ipython",
    "version": 3
   },
   "file_extension": ".py",
   "mimetype": "text/x-python",
   "name": "python",
   "nbconvert_exporter": "python",
   "pygments_lexer": "ipython3",
   "version": "3.8.10"
  }
 },
 "nbformat": 4,
 "nbformat_minor": 5
}
